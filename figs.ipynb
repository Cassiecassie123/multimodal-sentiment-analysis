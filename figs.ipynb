{
 "cells": [
  {
   "cell_type": "code",
   "execution_count": 1,
   "metadata": {
    "pycharm": {
     "name": "#%%\n"
    }
   },
   "outputs": [],
   "source": [
    "import matplotlib.pyplot as plt\n",
    "plt.style.use('seaborn')"
   ]
  },
  {
   "cell_type": "code",
   "execution_count": null,
   "outputs": [],
   "source": [
    "def acc_and_mac_f1_image_only():\n",
    "    \"\"\"ACC and MAC_F1(image only)\"\"\"\n",
    "    acc = [62, 63.75, 63.5, 65.25, 64.5, 62.5, 63, 61.5, 64.75, 63]\n",
    "    mac_f1 = [34.49, 52.54, 54.24, 55.66, 48.95, 50.09, 55.27, 51.93, 55.82, 54.48]\n",
    "\n",
    "    fig, ax = plt.subplots(figsize=(14, 7))\n",
    "    x = range(1, 11)\n",
    "    \n",
    "    ax.plot(x, acc, label='ACC', marker='o')\n",
    "    ax.plot(x, mac_f1, label='MAC_F1', marker='o')\n",
    "    ax.set_xlabel('EPOCHS')\n",
    "    ax.set_ylabel('SCORE')\n",
    "    ax.set_xticks(x)\n",
    "    ax.set_ylim((0, 100))\n",
    "    ax.set_title('ACC and MAC_F1 on validation set(image only)')\n",
    "    plt.legend()\n",
    "    plt.show()\n",
    "\n",
    "acc_and_mac_f1_image_only()"
   ],
   "metadata": {
    "collapsed": false,
    "pycharm": {
     "name": "#%%\n"
    }
   }
  },
  {
   "cell_type": "code",
   "execution_count": null,
   "outputs": [],
   "source": [
    "def acc_and_mac_f1_text_only():\n",
    "    \"\"\"ACC and MAC_F1(text only)\"\"\"\n",
    "    acc = [68.5, 73.5, 70.5, 70.75, 72.75, 73.25, 73.5, 72, 70.5, 70.5]\n",
    "    mac_f1 = [46.17, 62.29, 61.52, 56.75, 61.09, 64.88, 64.63, 60.33, 55.91, 59.60]\n",
    "\n",
    "    fig, ax = plt.subplots(figsize=(14, 7))\n",
    "    x = range(1, 11)\n",
    "    \n",
    "    ax.plot(x, acc, label='ACC', marker='o')\n",
    "    ax.plot(x, mac_f1, label='MAC_F1', marker='o')\n",
    "    ax.set_xlabel('EPOCHS')\n",
    "    ax.set_ylabel('SCORE')\n",
    "    ax.set_xticks(x)\n",
    "    ax.set_ylim((0, 100))\n",
    "    ax.set_title('ACC and MAC_F1 on validation set(text only)')\n",
    "    plt.legend()\n",
    "    plt.show()\n",
    "\n",
    "acc_and_mac_f1_text_only()"
   ],
   "metadata": {
    "collapsed": false,
    "pycharm": {
     "name": "#%%\n"
    }
   }
  },
  {
   "cell_type": "code",
   "execution_count": null,
   "outputs": [],
   "source": [
    "def acc_and_mac_f1_both():\n",
    "    \"\"\"ACC and MAC_F1(both)\"\"\"\n",
    "    acc = [73.5, 72, 75.75, 70.75, 76.75, 74.25, 72, 75.75, 77.25, 72.5]\n",
    "    mac_f1 = [61.72, 64.9, 66.73, 58.3, 65.39, 60.23, 58.72, 65.3, 67.12, 56.75]\n",
    "\n",
    "    fig, ax = plt.subplots(figsize=(14, 7))\n",
    "    x = range(1, 11)\n",
    "    \n",
    "    ax.plot(x, acc, label='ACC', marker='o')\n",
    "    ax.plot(x, mac_f1, label='MAC_F1', marker='o')\n",
    "    ax.set_xlabel('EPOCHS')\n",
    "    ax.set_ylabel('SCORE')\n",
    "    ax.set_xticks(x)\n",
    "    ax.set_ylim((0, 100))\n",
    "    ax.set_title('ACC and MAC_F1 on validation set(both)')\n",
    "    plt.legend()\n",
    "    plt.show()\n",
    "\n",
    "acc_and_mac_f1_both()"
   ],
   "metadata": {
    "collapsed": false,
    "pycharm": {
     "name": "#%%\n"
    }
   }
  },
  {
   "cell_type": "code",
   "execution_count": null,
   "outputs": [],
   "source": [
    "def acc_f1_all_methods():\n",
    "    \"\"\"ACC_F1(all methods)\"\"\"\n",
    "    image_acc = [62, 63.75, 63.5, 65.25, 64.5, 62.5, 63, 61.5, 64.75, 63]\n",
    "    image_mac_f1 = [34.49, 52.54, 54.24, 55.66, 48.95, 50.09, 55.27, 51.93, 55.82, 54.48]\n",
    "\n",
    "    text_acc = [68.5, 73.5, 70.5, 70.75, 72.75, 73.25, 73.5, 72, 70.5, 70.5]\n",
    "    text_mac_f1 = [46.17, 62.29, 61.52, 56.75, 61.09, 64.88, 64.63, 60.33, 55.91, 59.60]\n",
    "\n",
    "    both_acc = [73.5, 72, 75.75, 70.75, 76.75, 74.25, 72, 75.75, 77.25, 72.5]\n",
    "    both_mac_f1 = [61.72, 64.9, 66.73, 58.3, 65.39, 60.23, 58.72, 65.3, 67.12, 56.75]\n",
    "\n",
    "    fig, ax = plt.subplots(figsize=(14, 7))\n",
    "    x = range(1, 11)\n",
    "    \n",
    "    ax.plot(x, image_acc, label='ACC_image', marker='o', linestyle='-', color = 'g')\n",
    "    # ax.plot(x, image_mac_f1, label='MAC_F1_image', marker='o', linestyle='--', color = 'g')\n",
    "    ax.plot(x, text_acc, label='ACC_text', marker='o', linestyle='-', color = 'b')\n",
    "    # ax.plot(x, text_mac_f1, label='MAC_F1_text', marker='o', linestyle='--', color = 'b')\n",
    "    ax.plot(x, both_acc, label='ACC_both', marker='o', linestyle='-', color = 'r')\n",
    "    # ax.plot(x, both_mac_f1, label='MAC_F1_both', marker='o', linestyle='--', color = 'r')\n",
    "    ax.set_xlabel('EPOCHS')\n",
    "    ax.set_ylabel('SCORE')\n",
    "    ax.set_xticks(x)\n",
    "    ax.set_ylim((0, 100))\n",
    "    ax.set_title('ACC on validation set(both)')\n",
    "    plt.legend()\n",
    "    plt.show()\n",
    "\n",
    "acc_f1_all_methods()"
   ],
   "metadata": {
    "collapsed": false,
    "pycharm": {
     "name": "#%%\n"
    }
   }
  },
  {
   "cell_type": "code",
   "execution_count": null,
   "outputs": [],
   "source": [
    "def mac_f1_all_methods():\n",
    "    \"\"\"MAC_F1(all methods)\"\"\"\n",
    "    image_acc = [62, 63.75, 63.5, 65.25, 64.5, 62.5, 63, 61.5, 64.75, 63]\n",
    "    image_mac_f1 = [34.49, 52.54, 54.24, 55.66, 48.95, 50.09, 55.27, 51.93, 55.82, 54.48]\n",
    "\n",
    "    text_acc = [68.5, 73.5, 70.5, 70.75, 72.75, 73.25, 73.5, 72, 70.5, 70.5]\n",
    "    text_mac_f1 = [46.17, 62.29, 61.52, 56.75, 61.09, 64.88, 64.63, 60.33, 55.91, 59.60]\n",
    "\n",
    "    both_acc = [73.5, 72, 75.75, 70.75, 76.75, 74.25, 72, 75.75, 77.25, 72.5]\n",
    "    both_mac_f1 = [61.72, 64.9, 66.73, 58.3, 65.39, 60.23, 58.72, 65.3, 67.12, 56.75]\n",
    "\n",
    "    fig, ax = plt.subplots(figsize=(14, 7))\n",
    "    x = range(1, 11)\n",
    "    \n",
    "    # ax.plot(x, image_acc, label='ACC_image', marker='o', linestyle='-', color = 'g')\n",
    "    ax.plot(x, image_mac_f1, label='MAC_F1_image', marker='o', linestyle='--', color = 'g')\n",
    "    # ax.plot(x, text_acc, label='ACC_text', marker='o', linestyle='-', color = 'b')\n",
    "    ax.plot(x, text_mac_f1, label='MAC_F1_text', marker='o', linestyle='--', color = 'b')\n",
    "    # ax.plot(x, both_acc, label='ACC_both', marker='o', linestyle='-', color = 'r')\n",
    "    ax.plot(x, both_mac_f1, label='MAC_F1_both', marker='o', linestyle='--', color = 'r')\n",
    "    ax.set_xlabel('EPOCHS')\n",
    "    ax.set_ylabel('SCORE')\n",
    "    ax.set_xticks(x)\n",
    "    ax.set_ylim((0, 100))\n",
    "    ax.set_title('MAC_F1 on validation set(both)')\n",
    "    plt.legend()\n",
    "    plt.show()\n",
    "\n",
    "mac_f1_all_methods()"
   ],
   "metadata": {
    "collapsed": false,
    "pycharm": {
     "name": "#%%\n"
    }
   }
  },
  {
   "cell_type": "code",
   "execution_count": null,
   "outputs": [],
   "source": [
    "def tag_distribution():\n",
    "    \"\"\"Tag distribution\"\"\"\n",
    "    with open('label/train.txt', 'r', encoding='utf-8') as f:\n",
    "        f.readline()\n",
    "        lines = f.readlines()\n",
    "        tag_mapped = {\n",
    "            'negative': 0,\n",
    "            'neutral': 1,\n",
    "            'positive': 2,\n",
    "        }\n",
    "        counter = [0 for _ in range(3)]\n",
    "        for line in lines:\n",
    "            guid, tag = line.strip().split(',')\n",
    "            counter[tag_mapped[tag]] += 1\n",
    "        f.close()\n",
    "\n",
    "    fig, ax = plt.subplots(figsize=(14, 7))\n",
    "    x = range(0, 3)\n",
    "    xticklabels = ['negative', 'neutral', 'positive']\n",
    "    ax.bar(x, counter)\n",
    "    ax.set_xticklabels(xticklabels)\n",
    "    ax.set_xticks(x)\n",
    "    ax.set_title('Tag distribution')\n",
    "    plt.legend()\n",
    "    plt.show()\n",
    "\n",
    "tag_distribution()"
   ],
   "metadata": {
    "collapsed": false,
    "pycharm": {
     "name": "#%%\n"
    }
   }
  },
  {
   "cell_type": "code",
   "execution_count": null,
   "outputs": [],
   "source": [
    "import os\n",
    "import cv2\n",
    "\n",
    "def image_size_cumulative_distribution():\n",
    "    \"\"\"Image size cumulative distribution\"\"\"\n",
    "    x = range(1000)\n",
    "    y = [0 for _ in range(1000)]\n",
    "    for fn in os.listdir('data'):\n",
    "        if fn.endswith('.jpg'):\n",
    "            im = cv2.imread(os.path.join('data', fn))\n",
    "            y[min(im.shape[0], im.shape[1])] += 1\n",
    "    for i in range(1, 1000):\n",
    "        y[i] += y[i - 1]\n",
    "    fig, ax = plt.subplots(figsize=(14, 7))\n",
    "    ax.plot(x, y)\n",
    "    ax.set_xlabel('SIZE')\n",
    "    ax.set_ylabel('NUMBER')\n",
    "    ax.set_title('Image size cumulative distribution')\n",
    "    plt.legend()\n",
    "    plt.show()\n",
    "\n",
    "image_size_cumulative_distribution()"
   ],
   "metadata": {
    "collapsed": false,
    "pycharm": {
     "name": "#%%\n"
    }
   }
  },
  {
   "cell_type": "code",
   "execution_count": null,
   "outputs": [],
   "source": [
    "import os\n",
    "\n",
    "def token_length_cumulative_distribution():\n",
    "    \"\"\"Token length cumulative distribution\"\"\"\n",
    "    x = range(50)\n",
    "    y = [0 for _ in range(50)]\n",
    "    for fn in os.listdir('data'):\n",
    "        if fn.endswith('.txt'):\n",
    "            with open(os.path.join('data', fn), 'r', encoding='gb18030') as f:\n",
    "                line = f.readline()\n",
    "                y[len(line.split(' '))] += 1\n",
    "    for i in range(1, 50):\n",
    "        y[i] += y[i - 1]\n",
    "    fig, ax = plt.subplots(figsize=(14, 7))\n",
    "    ax.plot(x, y)\n",
    "    ax.set_xlabel('LENGTH')\n",
    "    ax.set_ylabel('NUMBER')\n",
    "    ax.set_title('Token length cumulative distribution')\n",
    "    plt.legend()\n",
    "    plt.show()\n",
    "\n",
    "token_length_cumulative_distribution()"
   ],
   "metadata": {
    "collapsed": false,
    "pycharm": {
     "name": "#%%\n"
    }
   }
  },
  {
   "cell_type": "code",
   "execution_count": 9,
   "metadata": {},
   "outputs": [
    {
     "name": "stderr",
     "output_type": "stream",
     "text": [
      "No handles with labels found to put in legend.\n"
     ]
    },
    {
     "data": {
      "image/png": "[encoded data removed]",
      "text/plain": [
       "<Figure size 1008x504 with 1 Axes>"
      ]
     },
     "metadata": {},
     "output_type": "display_data"
    }
   ],
   "source": [
    "import os\n",
    "\n",
    "def token_length_cumulative_distribution():\n",
    "    \"\"\"Token length cumulative distribution\"\"\"\n",
    "    x = range(50)\n",
    "    y = [0 for _ in range(50)]\n",
    "    for fn in os.listdir('data'):\n",
    "        if fn.endswith('.txt'):\n",
    "            with open(os.path.join('data', fn), 'r', encoding='gb18030') as f:\n",
    "                line = f.readline()\n",
    "                y[len(line.split(' '))] += 1\n",
    "    for i in range(1, 50):\n",
    "        y[i] += y[i - 1]\n",
    "    fig, ax = plt.subplots(figsize=(14, 7))\n",
    "    ax.plot(x, y)\n",
    "    ax.set_xlabel('LENGTH')\n",
    "    ax.set_ylabel('NUMBER')\n",
    "    ax.set_title('Token length cumulative distribution')\n",
    "    plt.legend()\n",
    "    plt.show()\n",
    "\n",
    "token_length_cumulative_distribution()"
   ]
  }
 ],
 "metadata": {
  "kernelspec": {
   "display_name": "Python 3.9.7 ('base')",
   "language": "python",
   "name": "python3"
  },
  "language_info": {
   "codemirror_mode": {
    "name": "ipython",
    "version": 3
   },
   "file_extension": ".py",
   "mimetype": "text/x-python",
   "name": "python",
   "nbconvert_exporter": "python",
   "pygments_lexer": "ipython3",
   "version": "3.9.7"
  },
  "orig_nbformat": 4,
  "vscode": {
   "interpreter": {
    "hash": "ad2bdc8ecc057115af97d19610ffacc2b4e99fae6737bb82f5d7fb13d2f2c186"
   }
  }
 },
 "nbformat": 4,
 "nbformat_minor": 2
}